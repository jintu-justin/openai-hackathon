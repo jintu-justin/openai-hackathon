{
  "cells": [
    {
      "cell_type": "code",
      "source": [
        "pip install azure-ai-textanalytics"
      ],
      "outputs": [
        {
          "output_type": "stream",
          "name": "stdout",
          "text": "Collecting azure-ai-textanalytics\n  Downloading azure_ai_textanalytics-5.3.0-py3-none-any.whl (298 kB)\n\u001b[2K     \u001b[90m━━━━━━━━━━━━━━━━━━━━━━━━━━━━━━━━━━━━━━━\u001b[0m \u001b[32m298.6/298.6 kB\u001b[0m \u001b[31m9.6 MB/s\u001b[0m eta \u001b[36m0:00:00\u001b[0m\n\u001b[?25hRequirement already satisfied: azure-core<2.0.0,>=1.24.0 in /anaconda/envs/azureml_py310_sdkv2/lib/python3.10/site-packages (from azure-ai-textanalytics) (1.27.1)\nRequirement already satisfied: azure-common~=1.1 in /anaconda/envs/azureml_py310_sdkv2/lib/python3.10/site-packages (from azure-ai-textanalytics) (1.1.28)\nRequirement already satisfied: isodate<1.0.0,>=0.6.1 in /anaconda/envs/azureml_py310_sdkv2/lib/python3.10/site-packages (from azure-ai-textanalytics) (0.6.1)\nRequirement already satisfied: typing-extensions>=4.0.1 in /anaconda/envs/azureml_py310_sdkv2/lib/python3.10/site-packages (from azure-ai-textanalytics) (4.6.3)\nRequirement already satisfied: requests>=2.18.4 in /anaconda/envs/azureml_py310_sdkv2/lib/python3.10/site-packages (from azure-core<2.0.0,>=1.24.0->azure-ai-textanalytics) (2.31.0)\nRequirement already satisfied: six>=1.11.0 in /anaconda/envs/azureml_py310_sdkv2/lib/python3.10/site-packages (from azure-core<2.0.0,>=1.24.0->azure-ai-textanalytics) (1.16.0)\nRequirement already satisfied: charset-normalizer<4,>=2 in /anaconda/envs/azureml_py310_sdkv2/lib/python3.10/site-packages (from requests>=2.18.4->azure-core<2.0.0,>=1.24.0->azure-ai-textanalytics) (3.1.0)\nRequirement already satisfied: idna<4,>=2.5 in /anaconda/envs/azureml_py310_sdkv2/lib/python3.10/site-packages (from requests>=2.18.4->azure-core<2.0.0,>=1.24.0->azure-ai-textanalytics) (3.4)\nRequirement already satisfied: urllib3<3,>=1.21.1 in /anaconda/envs/azureml_py310_sdkv2/lib/python3.10/site-packages (from requests>=2.18.4->azure-core<2.0.0,>=1.24.0->azure-ai-textanalytics) (1.26.16)\nRequirement already satisfied: certifi>=2017.4.17 in /anaconda/envs/azureml_py310_sdkv2/lib/python3.10/site-packages (from requests>=2.18.4->azure-core<2.0.0,>=1.24.0->azure-ai-textanalytics) (2023.5.7)\nInstalling collected packages: azure-ai-textanalytics\nSuccessfully installed azure-ai-textanalytics-5.3.0\nNote: you may need to restart the kernel to use updated packages.\n"
        }
      ],
      "execution_count": 2,
      "metadata": {
        "gather": {
          "logged": 1715767024787
        }
      }
    },
    {
      "cell_type": "code",
      "source": [
        "import os\n",
        "from azure.core.credentials import AzureKeyCredential\n",
        "from azure.ai.textanalytics import TextAnalyticsClient\n",
        "endpoint = \"https://language-jintu.cognitiveservices.azure.com/\"\n",
        "key = \"ddf79ea733584d47a6620e711a8a4a4d\"\n",
        "\n",
        "text_analytics_client = TextAnalyticsClient(endpoint, AzureKeyCredential(key))"
      ],
      "outputs": [],
      "execution_count": 1,
      "metadata": {
        "jupyter": {
          "source_hidden": false,
          "outputs_hidden": false
        },
        "nteract": {
          "transient": {
            "deleting": false
          }
        },
        "gather": {
          "logged": 1715767099654
        }
      }
    },
    {
      "cell_type": "code",
      "source": [
        "documents = [\"The product quality is very poor\", \"There are wide variety of products available. Good Collection!\"]"
      ],
      "outputs": [],
      "execution_count": 8,
      "metadata": {
        "jupyter": {
          "source_hidden": false,
          "outputs_hidden": false
        },
        "nteract": {
          "transient": {
            "deleting": false
          }
        },
        "gather": {
          "logged": 1715767657745
        }
      }
    },
    {
      "cell_type": "code",
      "source": [
        "response = text_analytics_client.analyze_sentiment(documents)\n",
        "successful_responses = [doc for doc in response if not doc.is_error]"
      ],
      "outputs": [],
      "execution_count": 9,
      "metadata": {
        "jupyter": {
          "source_hidden": false,
          "outputs_hidden": false
        },
        "nteract": {
          "transient": {
            "deleting": false
          }
        },
        "gather": {
          "logged": 1715767659817
        }
      }
    },
    {
      "cell_type": "code",
      "source": [
        "successful_responses"
      ],
      "outputs": [
        {
          "output_type": "execute_result",
          "execution_count": 10,
          "data": {
            "text/plain": "[AnalyzeSentimentResult(id=0, sentiment=negative, warnings=[], statistics=None, confidence_scores=SentimentConfidenceScores(positive=0.0, neutral=0.01, negative=0.99), sentences=[SentenceSentiment(text=The product quality is very poor, sentiment=negative, confidence_scores=SentimentConfidenceScores(positive=0.0, neutral=0.01, negative=0.99), length=32, offset=0, mined_opinions=[])], is_error=False, kind=SentimentAnalysis),\n AnalyzeSentimentResult(id=1, sentiment=positive, warnings=[], statistics=None, confidence_scores=SentimentConfidenceScores(positive=0.99, neutral=0.0, negative=0.0), sentences=[SentenceSentiment(text=There are wide variety of products available. , sentiment=neutral, confidence_scores=SentimentConfidenceScores(positive=0.04, neutral=0.94, negative=0.02), length=46, offset=0, mined_opinions=[]), SentenceSentiment(text=Good Collection!, sentiment=positive, confidence_scores=SentimentConfidenceScores(positive=0.99, neutral=0.0, negative=0.0), length=16, offset=46, mined_opinions=[])], is_error=False, kind=SentimentAnalysis)]"
          },
          "metadata": {}
        }
      ],
      "execution_count": 10,
      "metadata": {
        "jupyter": {
          "source_hidden": false,
          "outputs_hidden": false
        },
        "nteract": {
          "transient": {
            "deleting": false
          }
        },
        "gather": {
          "logged": 1715767662049
        }
      }
    },
    {
      "cell_type": "code",
      "source": [
        "# poller = text_analytics_client.begin_analyze_actions(documents, actions)\n",
        "# response = poller.result()\n",
        "for result in response:\n",
        "    if result.kind == \"SentimentAnalysis\":\n",
        "        print(f\"Sentiment is {result.sentiment}\")\n",
        "    elif result.kind == \"KeyPhraseExtraction\":\n",
        "        print(f\"Key phrases: {result.key_phrases}\")\n",
        "    elif result.is_error is True:\n",
        "        print(f\"Document error: {result.code}, {result.message}\")"
      ],
      "outputs": [
        {
          "output_type": "stream",
          "name": "stdout",
          "text": "Sentiment is negative\nSentiment is positive\n"
        }
      ],
      "execution_count": 13,
      "metadata": {
        "jupyter": {
          "source_hidden": false,
          "outputs_hidden": false
        },
        "nteract": {
          "transient": {
            "deleting": false
          }
        },
        "gather": {
          "logged": 1715769469623
        }
      }
    }
  ],
  "metadata": {
    "kernelspec": {
      "name": "python310-sdkv2",
      "language": "python",
      "display_name": "Python 3.10 - SDK v2"
    },
    "language_info": {
      "name": "python",
      "version": "3.10.11",
      "mimetype": "text/x-python",
      "codemirror_mode": {
        "name": "ipython",
        "version": 3
      },
      "pygments_lexer": "ipython3",
      "nbconvert_exporter": "python",
      "file_extension": ".py"
    },
    "microsoft": {
      "ms_spell_check": {
        "ms_spell_check_language": "en"
      }
    },
    "kernel_info": {
      "name": "python310-sdkv2"
    },
    "nteract": {
      "version": "nteract-front-end@1.0.0"
    }
  },
  "nbformat": 4,
  "nbformat_minor": 2
}